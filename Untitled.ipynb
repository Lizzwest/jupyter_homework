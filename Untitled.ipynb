{
 "cells": [
  {
   "cell_type": "code",
   "execution_count": null,
   "metadata": {},
   "outputs": [],
   "source": [
    "from random import random\n",
    "from math import floor\n",
    "# Initialize game\n",
    "secret_word = \"\"\n",
    "letters_left = 0\n",
    "hangman_guesses_left = 6\n",
    "letters_guessed = []\n",
    "errors = 0\n",
    "underscored_secret_word = \"\"\n",
    "secret_words = [\"development\", \"random\", \"postman\", \"mountain\", \"python\", \"wrong\"]"
   ]
  }
 ],
 "metadata": {
  "kernelspec": {
   "display_name": "Python 3",
   "language": "python",
   "name": "python3"
  },
  "language_info": {
   "codemirror_mode": {
    "name": "ipython",
    "version": 3
   },
   "file_extension": ".py",
   "mimetype": "text/x-python",
   "name": "python",
   "nbconvert_exporter": "python",
   "pygments_lexer": "ipython3",
   "version": "3.8.5"
  }
 },
 "nbformat": 4,
 "nbformat_minor": 4
}
