{
 "cells": [
  {
   "cell_type": "code",
   "execution_count": 1,
   "metadata": {},
   "outputs": [],
   "source": [
    "def p_times(num, statement):\n",
    "    for i in range(num):\n",
    "        print(statement)\n",
    "        "
   ]
  },
  {
   "cell_type": "code",
   "execution_count": 2,
   "metadata": {},
   "outputs": [
    {
     "name": "stdout",
     "output_type": "stream",
     "text": [
      "Boots and Cats and\n",
      "Boots and Cats and\n",
      "Boots and Cats and\n",
      "Boots and Cats and\n",
      "Boots and Cats and\n",
      "Boots and Cats and\n",
      "Boots and Cats and\n",
      "THANKS PETE\n",
      "THANKS PETE\n",
      "THANKS PETE\n",
      "THANKS PETE\n",
      "Let's GOOOOOOOOOOO\n",
      "Let's GOOOOOOOOOOO\n"
     ]
    }
   ],
   "source": [
    "p_times(7, \"Boots and Cats and\")\n",
    "p_times(4, \"THANKS PETE\")\n",
    "p_times(2, \"Let's GOOOOOOOOOOO\")"
   ]
  },
  {
   "cell_type": "code",
   "execution_count": 3,
   "metadata": {},
   "outputs": [],
   "source": [
    "def letter_count(string):\n",
    "  dd= {}\n",
    "  for letter in string:\n",
    "      if (letter in dd):\n",
    "        dd[letter] = dd[letter] + 1\n",
    "      else:\n",
    "        dd[letter] = 1\n",
    "\n",
    "  print(dd)"
   ]
  },
  {
   "cell_type": "code",
   "execution_count": 4,
   "metadata": {},
   "outputs": [
    {
     "name": "stdout",
     "output_type": "stream",
     "text": [
      "{'C': 1, 'a': 4, 'm': 1, 'p': 1, ' ': 1, 'W': 1, 'n': 2, 'h': 1, 'o': 1, 'c': 1, 'k': 1, 'l': 1, 'u': 1, 'g': 1, 'e': 2}\n",
      "{'I': 1, ' ': 6, 'n': 2, 'e': 3, 'v': 1, 'r': 3, 'm': 1, 'a': 4, 't': 4, 'o': 1, 's': 1, 'w': 1}\n",
      "{'S': 1, 'w': 1, 'e': 3, 't': 1, ' ': 1, 'd': 1, 'r': 1, 'a': 1, 'm': 1, 's': 1}\n"
     ]
    }
   ],
   "source": [
    "letter_count(\"Camp Wannahockalugee\")\n",
    "letter_count(\"I never meant to start a war\")\n",
    "letter_count(\"Sweet dreams\")"
   ]
  },
  {
   "cell_type": "code",
   "execution_count": 5,
   "metadata": {},
   "outputs": [],
   "source": [
    "contacts = {\n",
    "  'Brian': '333-333-3333',\n",
    "  'Lenny': '444-444-4444',\n",
    "  'Daniel': '777-777-7777'\n",
    "}"
   ]
  },
  {
   "cell_type": "code",
   "execution_count": 6,
   "metadata": {},
   "outputs": [],
   "source": [
    "def print_contacts(contacts):\n",
    "  # print(arguments)\n",
    "  for key in contacts:\n",
    "    print(f\"{key} has a phone number of {contacts[key]}\")\n",
    "    "
   ]
  },
  {
   "cell_type": "code",
   "execution_count": 7,
   "metadata": {},
   "outputs": [
    {
     "name": "stdout",
     "output_type": "stream",
     "text": [
      "Brian has a phone number of 333-333-3333\n",
      "Lenny has a phone number of 444-444-4444\n",
      "Daniel has a phone number of 777-777-7777\n"
     ]
    }
   ],
   "source": [
    "print_contacts(contacts)"
   ]
  },
  {
   "cell_type": "code",
   "execution_count": 8,
   "metadata": {},
   "outputs": [],
   "source": [
    "def multiply_by(list, number):\n",
    "   new_list = []\n",
    "   for num in list:\n",
    "        # print(item)\n",
    "       new_list.append(num * number)\n",
    "   return new_list"
   ]
  },
  {
   "cell_type": "code",
   "execution_count": 9,
   "metadata": {
    "scrolled": true
   },
   "outputs": [
    {
     "name": "stdout",
     "output_type": "stream",
     "text": [
      "[5, 10, 15]\n",
      "[20, 40, 60]\n",
      "[45, 90, 135]\n"
     ]
    }
   ],
   "source": [
    "print(multiply_by([1,2,3], 5))\n",
    "print(multiply_by([2,4,6], 10))\n",
    "print(multiply_by([3,6,9], 15))\n"
   ]
  },
  {
   "cell_type": "code",
   "execution_count": 10,
   "metadata": {},
   "outputs": [],
   "source": [
    "def factorial(n):\n",
    "    factorial = 1\n",
    "    for i in range(1, n + 1):\n",
    "        factorial = factorial * i\n",
    "    return factorial"
   ]
  },
  {
   "cell_type": "code",
   "execution_count": 11,
   "metadata": {},
   "outputs": [
    {
     "name": "stdout",
     "output_type": "stream",
     "text": [
      "5040\n",
      "6\n",
      "39916800\n"
     ]
    }
   ],
   "source": [
    "print(factorial(7))\n",
    "print(factorial(3))\n",
    "print(factorial(11)) "
   ]
  },
  {
   "cell_type": "code",
   "execution_count": null,
   "metadata": {},
   "outputs": [],
   "source": []
  }
 ],
 "metadata": {
  "kernelspec": {
   "display_name": "Python 3",
   "language": "python",
   "name": "python3"
  },
  "language_info": {
   "codemirror_mode": {
    "name": "ipython",
    "version": 3
   },
   "file_extension": ".py",
   "mimetype": "text/x-python",
   "name": "python",
   "nbconvert_exporter": "python",
   "pygments_lexer": "ipython3",
   "version": "3.8.5"
  }
 },
 "nbformat": 4,
 "nbformat_minor": 4
}
