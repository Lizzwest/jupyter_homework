{
 "cells": [
  {
   "cell_type": "code",
   "execution_count": 1,
   "metadata": {},
   "outputs": [],
   "source": [
    "from random import random\n",
    "from math import floor\n",
    "# Initialize game\n",
    "secret_word = \"\"\n",
    "letters_left = 0\n",
    "hangman_guesses_left = 6\n",
    "letters_guessed = []\n",
    "errors = 0\n",
    "underscored_secret_word = \"\"\n",
    "secret_words = [\"development\", \"random\", \"postman\", \"mountain\", \"python\", \"wrong\"]"
   ]
  },
  {
   "cell_type": "code",
   "execution_count": 2,
   "metadata": {},
   "outputs": [],
   "source": [
    "hangman1 = '''\n",
    "______\n",
    "|    |\n",
    "|    O\n",
    "|\n",
    "|\n",
    "|__________\n",
    "'''\n",
    "hangman2 = '''\n",
    "______\n",
    "|    |\n",
    "|    O\n",
    "|    |\n",
    "|\n",
    "|__________\n",
    "'''\n",
    "hangman3 = '''\n",
    "______\n",
    "|    |\n",
    "|    O\n",
    "|   /|\n",
    "|\n",
    "|__________\n",
    "'''\n",
    "hangman4 = '''\n",
    "______\n",
    "|    |\n",
    "|    O\n",
    "|   /|\\\\\n",
    "|\n",
    "|__________\n",
    "'''\n",
    "hangman5 = '''\n",
    "______\n",
    "|    |\n",
    "|    O\n",
    "|   /|\\\\\n",
    "|   /\n",
    "|__________\n",
    "'''\n",
    "hangman6 = '''\n",
    "______\n",
    "|    |\n",
    "|    O\n",
    "|   /|\\\\\n",
    "|   / \\\\\n",
    "|__________\n",
    "'''\n",
    "hangman_table = [\n",
    "  f'\\n{hangman6}\\n',\n",
    "  f'\\n{hangman5}\\n',\n",
    "  f'\\n{hangman4}\\n',\n",
    "  f'\\n{hangman3}\\n',\n",
    "  f'\\n{hangman2}\\n',\n",
    "  f'\\n{hangman1}\\n'\n",
    "]"
   ]
  },
  {
   "cell_type": "code",
   "execution_count": 3,
   "metadata": {},
   "outputs": [],
   "source": [
    "def game_init():\n",
    "  global secret_word\n",
    "  global letters_left\n",
    "  global hangman_guesses_left\n",
    "  global letters_guessed\n",
    "  global errors\n",
    "  global underscored_secret_word\n",
    "  random_index = floor(random() * 6)\n",
    "  secret_word = secret_words[random_index]\n",
    "  letters_left = len(secret_word)\n",
    "  hangman_guesses_left = 6\n",
    "  letters_guessed = []\n",
    "  errors = 0\n",
    "  underscored_secret_word = \"\"\n",
    "  i = 0\n",
    "  while i < len(secret_word):\n",
    "    underscored_secret_word = underscored_secret_word + \"_ \"\n",
    "    i += 1"
   ]
  },
  {
   "cell_type": "code",
   "execution_count": 4,
   "metadata": {},
   "outputs": [],
   "source": [
    "def lose():\n",
    "  print(\"HANGMAN :(\")\n",
    "  print(f\"The word was {secret_word}.\")"
   ]
  },
  {
   "cell_type": "code",
   "execution_count": 5,
   "metadata": {},
   "outputs": [],
   "source": [
    "def win():\n",
    "  print(\"You won!\")\n",
    "  print(f\"The word was {secret_word}.\")"
   ]
  },
  {
   "cell_type": "code",
   "execution_count": 6,
   "metadata": {},
   "outputs": [],
   "source": [
    "def add_to_guesses(guess):\n",
    "  letters_guessed.append(guess)\n"
   ]
  },
  {
   "cell_type": "code",
   "execution_count": 27,
   "metadata": {},
   "outputs": [],
   "source": [
    "def success(guess):\n",
    "  global underscored_secret_word\n",
    "  global win\n",
    "  print(\"Correct\")\n",
    "  add_to_guesses(guess)\n",
    "  index = 0\n",
    "  for letter in secret_word:\n",
    "    if letter == guess:\n",
    "        if index == 0:\n",
    "            underscored_secret_word = guess + underscored_secret_word[1:]\n",
    "        elif index < (len(secret_word) - 1):\n",
    "            underscored_secret_word = underscored_secret_word[0:((index * 2))] + guess + \" \" + underscored_secret_word[(index * 2 + 2):]\n",
    "        else:\n",
    "            underscored_secret_word = underscored_secret_word[:-2] + guess\n",
    "    index += 1\n",
    "    for letter in underscored_secret_word:\n",
    "        if letter == \"_\":\n",
    "            continue_game()\n",
    "            return\n",
    "            win()\n"
   ]
  },
  {
   "cell_type": "code",
   "execution_count": 28,
   "metadata": {},
   "outputs": [],
   "source": [
    "def print_hangman(incorrect_guesses_left):\n",
    "  print(hangman_table[incorrect_guesses_left])"
   ]
  },
  {
   "cell_type": "code",
   "execution_count": 29,
   "metadata": {},
   "outputs": [],
   "source": [
    "def failure(guess):\n",
    "  global hangman_guesses_left\n",
    "  add_to_guesses(guess)\n",
    "  hangman_guesses_left -= 1\n",
    "  print_hangman(hangman_guesses_left)\n",
    "  continue_game()"
   ]
  },
  {
   "cell_type": "code",
   "execution_count": 30,
   "metadata": {},
   "outputs": [],
   "source": [
    "def already_guessed():\n",
    "  print(\"You already guessed that.\")\n",
    "  continue_game()"
   ]
  },
  {
   "cell_type": "code",
   "execution_count": 31,
   "metadata": {},
   "outputs": [],
   "source": [
    "def continue_game():\n",
    "  global errors\n",
    "  print(f\"You have {hangman_guesses_left} guesses left.\")\n",
    "  print(f\"You have guessed: {letters_guessed}\")\n",
    "  print(f\"The word you need: {underscored_secret_word}\")\n",
    "  if hangman_guesses_left > 0:\n",
    "    guess = input(\"Guess a letter:\\n\").lower()\n",
    "    if guess == secret_word:\n",
    "      win()\n",
    "      return"
   ]
  },
  {
   "cell_type": "code",
   "execution_count": 48,
   "metadata": {},
   "outputs": [
    {
     "ename": "SyntaxError",
     "evalue": "'return' outside function (<ipython-input-48-77104aa9b760>, line 5)",
     "output_type": "error",
     "traceback": [
      "\u001b[0;36m  File \u001b[0;32m\"<ipython-input-48-77104aa9b760>\"\u001b[0;36m, line \u001b[0;32m5\u001b[0m\n\u001b[0;31m    return\u001b[0m\n\u001b[0m    ^\u001b[0m\n\u001b[0;31mSyntaxError\u001b[0m\u001b[0;31m:\u001b[0m 'return' outside function\n"
     ]
    }
   ],
   "source": [
    "    if len(guess) > 1 and errors < 1:\n",
    "      print(\"It looks like you accidentally entered more than one character or guessed the wrong word.\")\n",
    "      errors += 1\n",
    "      continue_game()\n",
    "      return\n",
    "    try:\n",
    "      int(guess)\n",
    "      if errors < 1:\n",
    "        print(\"It looks like you accidentally entered a number.\")\n",
    "        errors += 1\n",
    "        continue_game()\n",
    "        return\n",
    "    except ValueError:\n",
    "        pass\n",
    "    \n",
    "    "
   ]
  },
  {
   "cell_type": "code",
   "execution_count": null,
   "metadata": {},
   "outputs": [],
   "source": []
  },
  {
   "cell_type": "code",
   "execution_count": null,
   "metadata": {},
   "outputs": [],
   "source": []
  },
  {
   "cell_type": "code",
   "execution_count": null,
   "metadata": {},
   "outputs": [],
   "source": []
  },
  {
   "cell_type": "code",
   "execution_count": 50,
   "metadata": {},
   "outputs": [
    {
     "ename": "IndentationError",
     "evalue": "unindent does not match any outer indentation level (<tokenize>, line 4)",
     "output_type": "error",
     "traceback": [
      "\u001b[0;36m  File \u001b[0;32m\"<tokenize>\"\u001b[0;36m, line \u001b[0;32m4\u001b[0m\n\u001b[0;31m    for letter in secret_word:\u001b[0m\n\u001b[0m    ^\u001b[0m\n\u001b[0;31mIndentationError\u001b[0m\u001b[0;31m:\u001b[0m unindent does not match any outer indentation level\n"
     ]
    }
   ],
   "source": [
    "if guess in letters_guessed:\n",
    "      already_guessed()\n",
    "      return\n",
    "    for letter in secret_word:\n",
    "      if letter == guess:\n",
    "            success(guess)\n",
    "    return\n",
    "    failure(guess)\n",
    "    return\n",
    "    else:\n",
    "        lose()\n",
    "        "
   ]
  },
  {
   "cell_type": "code",
   "execution_count": null,
   "metadata": {},
   "outputs": [],
   "source": []
  },
  {
   "cell_type": "code",
   "execution_count": null,
   "metadata": {},
   "outputs": [],
   "source": []
  }
 ],
 "metadata": {
  "kernelspec": {
   "display_name": "Python 3",
   "language": "python",
   "name": "python3"
  },
  "language_info": {
   "codemirror_mode": {
    "name": "ipython",
    "version": 3
   },
   "file_extension": ".py",
   "mimetype": "text/x-python",
   "name": "python",
   "nbconvert_exporter": "python",
   "pygments_lexer": "ipython3",
   "version": "3.8.5"
  }
 },
 "nbformat": 4,
 "nbformat_minor": 4
}